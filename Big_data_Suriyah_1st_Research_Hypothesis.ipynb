{
  "nbformat": 4,
  "nbformat_minor": 0,
  "metadata": {
    "colab": {
      "provenance": [],
      "toc_visible": true,
      "mount_file_id": "1I_QefdFfpGDUazTiE1yeFqDjyGk9FOHk",
      "authorship_tag": "ABX9TyMz3HGax6k6OMdT8hKkVFDo",
      "include_colab_link": true
    },
    "kernelspec": {
      "name": "python3",
      "display_name": "Python 3"
    },
    "language_info": {
      "name": "python"
    }
  },
  "cells": [
    {
      "cell_type": "markdown",
      "metadata": {
        "id": "view-in-github",
        "colab_type": "text"
      },
      "source": [
        "<a href=\"https://colab.research.google.com/github/suriyah1310/6G7V0026_2223_9F/blob/main/Big_data_Suriyah_1st_Research_Hypothesis.ipynb\" target=\"_parent\"><img src=\"https://colab.research.google.com/assets/colab-badge.svg\" alt=\"Open In Colab\"/></a>"
      ]
    },
    {
      "cell_type": "markdown",
      "source": [
        "# Section 1: Installing relevant software & dictionaries:\n"
      ],
      "metadata": {
        "id": "9LSJc2X8lkzM"
      }
    },
    {
      "cell_type": "code",
      "execution_count": 7,
      "metadata": {
        "colab": {
          "base_uri": "https://localhost:8080/"
        },
        "id": "zHo6ci7Zi89R",
        "outputId": "d86c748e-805b-4faa-ec75-32c8406d9a9e"
      },
      "outputs": [
        {
          "output_type": "stream",
          "name": "stdout",
          "text": [
            "\n",
            "Welcome to 1st Research Hypothesis work by Suriyah Uthayakumar (22455939)\n",
            "drive  sample_data\n",
            "--2023-04-23 03:25:10--  https://downloads.apache.org/spark/spark-3.3.2/spark-3.3.2-bin-hadoop3.tgz\n",
            "Resolving downloads.apache.org (downloads.apache.org)... 135.181.214.104, 88.99.95.219, 2a01:4f9:3a:2c57::2, ...\n",
            "Connecting to downloads.apache.org (downloads.apache.org)|135.181.214.104|:443... connected.\n",
            "HTTP request sent, awaiting response... 200 OK\n",
            "Length: 299360284 (285M) [application/x-gzip]\n",
            "Saving to: ‘spark-3.3.2-bin-hadoop3.tgz’\n",
            "\n",
            "spark-3.3.2-bin-had 100%[===================>] 285.49M  23.5MB/s    in 13s     \n",
            "\n",
            "2023-04-23 03:25:23 (21.9 MB/s) - ‘spark-3.3.2-bin-hadoop3.tgz’ saved [299360284/299360284]\n",
            "\n",
            "total 292372\n",
            "drwxr-xr-x  1 root root      4096 Apr 23 03:25 .\n",
            "drwx------  5 root root      4096 Apr 23 03:21 drive\n",
            "drwxr-xr-x  1 root root      4096 Apr 23 03:17 ..\n",
            "drwxr-xr-x  1 root root      4096 Apr 19 13:37 sample_data\n",
            "drwxr-xr-x  4 root root      4096 Apr 19 13:36 .config\n",
            "-rw-r--r--  1 root root 299360284 Feb 10 21:28 spark-3.3.2-bin-hadoop3.tgz\n",
            "drwxr-xr-x 13  501 1000      4096 Feb 10 20:40 spark-3.3.2-bin-hadoop3\n"
          ]
        }
      ],
      "source": [
        "#Setting up Spark and all relevant dictionaries: \n",
        "print(\"\\nWelcome to 1st Research Hypothesis work by Suriyah Uthayakumar (22455939)\")\n",
        "!ls\n",
        "\n",
        "!apt-get install openjdk-8-jdk-headless -qq > /dev/null\n",
        "!wget https://downloads.apache.org/spark/spark-3.3.2/spark-3.3.2-bin-hadoop3.tgz\n",
        "!tar -xf spark-3.3.2-bin-hadoop3.tgz\n",
        "!ls -alt"
      ]
    },
    {
      "cell_type": "code",
      "source": [
        "from google.colab import drive\n",
        "drive.mount('/content/drive')"
      ],
      "metadata": {
        "colab": {
          "base_uri": "https://localhost:8080/"
        },
        "id": "eYYlaz9Y5R0n",
        "outputId": "febf2317-b6c3-49d9-99c1-410bd22af09f"
      },
      "execution_count": 5,
      "outputs": [
        {
          "output_type": "stream",
          "name": "stdout",
          "text": [
            "Drive already mounted at /content/drive; to attempt to forcibly remount, call drive.mount(\"/content/drive\", force_remount=True).\n"
          ]
        }
      ]
    },
    {
      "cell_type": "code",
      "source": [
        "# TFL open data for the year 2014 London bike hire file is downloaded:\n",
        "!wget https://cycling.data.tfl.gov.uk/usage-stats/cyclehireusagestats-2014.zip\n",
        "!unzip cyclehireusagestats-2014.zip"
      ],
      "metadata": {
        "id": "eCeDzoTz5VHN",
        "colab": {
          "base_uri": "https://localhost:8080/"
        },
        "outputId": "d1df233f-ecd1-4bcf-a858-8aace221d546"
      },
      "execution_count": 9,
      "outputs": [
        {
          "output_type": "stream",
          "name": "stdout",
          "text": [
            "--2023-04-23 03:29:21--  https://cycling.data.tfl.gov.uk/usage-stats/cyclehireusagestats-2014.zip\n",
            "Resolving cycling.data.tfl.gov.uk (cycling.data.tfl.gov.uk)... 104.16.101.13, 104.16.100.13\n",
            "Connecting to cycling.data.tfl.gov.uk (cycling.data.tfl.gov.uk)|104.16.101.13|:443... connected.\n",
            "HTTP request sent, awaiting response... 200 OK\n",
            "Length: 225215129 (215M) [application/zip]\n",
            "Saving to: ‘cyclehireusagestats-2014.zip’\n",
            "\n",
            "cyclehireusagestats 100%[===================>] 214.78M   152MB/s    in 1.4s    \n",
            "\n",
            "2023-04-23 03:29:23 (152 MB/s) - ‘cyclehireusagestats-2014.zip’ saved [225215129/225215129]\n",
            "\n",
            "Archive:  cyclehireusagestats-2014.zip\n",
            "  inflating: 1. Journey Data Extract 05Jan14-02Feb14.csv  \n",
            "  inflating: 10a. Journey Data Extract 14Sep14-27Sep14.csv  \n",
            "  inflating: 10b. Journey Data Extract 28Sep14-11Oct14.csv  \n",
            "  inflating: 11a. Journey Data Extract 12Oct14-08Nov14.csv  \n",
            "  inflating: 11b. Journey Data Extract 12Oct14-08Nov14.csv  \n",
            "  inflating: 12a. Journey Data Extract 09Nov14-06Dec14.csv  \n",
            "  inflating: 12b. Journey Data Extract 09Nov14-06Dec14.csv  \n",
            "  inflating: 13a. Journey Data Extract 07Dec14-21Dec14.csv  \n",
            "  inflating: 13b. Journey Data Extract 22Dec14-03Jan15.csv  \n",
            "  inflating: 14. Journey Data Extract 08Dec13-04Jan14.csv  \n",
            "  inflating: 2. Journey Data Extract 03Feb14-01Mar14.csv  \n",
            "  inflating: 3. Journey Data Extract 02Mar14-31Mar14.csv  \n",
            "  inflating: 4. Journey Data Extract 01Apr14-26Apr14.csv  \n",
            "  inflating: 5. Journey Data Extract 27Apr14-24May14.csv  \n",
            "  inflating: 6. Journey Data Extract 25May14-21Jun14.csv  \n",
            "  inflating: 7. Journey Data Extract 22Jun14-19Jul14.csv  \n",
            "  inflating: 8a Journey Data Extract 20Jul14-31Jul14.csv  \n",
            "  inflating: 8b Journey Data Extract 01Aug14-16Aug14.csv  \n",
            "  inflating: 9a Journey Data Extract 17Aug14-31Aug14.csv  \n",
            "  inflating: 9b Journey Data Extract 01Sep14-13Sep14.csv  \n"
          ]
        }
      ]
    },
    {
      "cell_type": "code",
      "source": [
        "!ls"
      ],
      "metadata": {
        "colab": {
          "base_uri": "https://localhost:8080/"
        },
        "id": "5vmlXRnx4hNW",
        "outputId": "44decaa2-b735-4921-946c-987dda465146"
      },
      "execution_count": 10,
      "outputs": [
        {
          "output_type": "stream",
          "name": "stdout",
          "text": [
            "'10a. Journey Data Extract 14Sep14-27Sep14.csv'\n",
            "'10b. Journey Data Extract 28Sep14-11Oct14.csv'\n",
            "'11a. Journey Data Extract 12Oct14-08Nov14.csv'\n",
            "'11b. Journey Data Extract 12Oct14-08Nov14.csv'\n",
            "'12a. Journey Data Extract 09Nov14-06Dec14.csv'\n",
            "'12b. Journey Data Extract 09Nov14-06Dec14.csv'\n",
            "'13a. Journey Data Extract 07Dec14-21Dec14.csv'\n",
            "'13b. Journey Data Extract 22Dec14-03Jan15.csv'\n",
            "'14. Journey Data Extract 08Dec13-04Jan14.csv'\n",
            "'1. Journey Data Extract 05Jan14-02Feb14.csv'\n",
            "'2. Journey Data Extract 03Feb14-01Mar14.csv'\n",
            "'3. Journey Data Extract 02Mar14-31Mar14.csv'\n",
            "'4. Journey Data Extract 01Apr14-26Apr14.csv'\n",
            "'5. Journey Data Extract 27Apr14-24May14.csv'\n",
            "'6. Journey Data Extract 25May14-21Jun14.csv'\n",
            "'7. Journey Data Extract 22Jun14-19Jul14.csv'\n",
            "'8a Journey Data Extract 20Jul14-31Jul14.csv'\n",
            "'8b Journey Data Extract 01Aug14-16Aug14.csv'\n",
            "'9a Journey Data Extract 17Aug14-31Aug14.csv'\n",
            "'9b Journey Data Extract 01Sep14-13Sep14.csv'\n",
            " cyclehireusagestats-2014.zip\n",
            " drive\n",
            " sample_data\n",
            " spark-3.3.2-bin-hadoop3\n",
            " spark-3.3.2-bin-hadoop3.tgz\n"
          ]
        }
      ]
    },
    {
      "cell_type": "code",
      "source": [
        "#installing findspark \n",
        "!pip3 install findspark"
      ],
      "metadata": {
        "colab": {
          "base_uri": "https://localhost:8080/"
        },
        "id": "LNzJ_t_5kzf5",
        "outputId": "94374876-bd62-4e4a-c009-156898d4d057"
      },
      "execution_count": 12,
      "outputs": [
        {
          "output_type": "stream",
          "name": "stdout",
          "text": [
            "Looking in indexes: https://pypi.org/simple, https://us-python.pkg.dev/colab-wheels/public/simple/\n",
            "Collecting findspark\n",
            "  Downloading findspark-2.0.1-py2.py3-none-any.whl (4.4 kB)\n",
            "Installing collected packages: findspark\n",
            "Successfully installed findspark-2.0.1\n"
          ]
        }
      ]
    },
    {
      "cell_type": "code",
      "source": [
        "import os\n",
        "os.environ[\"JAVA_HOME\"] = \"/usr/lib/jvm/java-8-openjdk-amd64\"\n",
        "os.environ[\"SPARK_HOME\"] = \"/content/spark-3.3.2-bin-hadoop3\"\n",
        "import findspark\n",
        "findspark.init()\n",
        "from pyspark import SparkConf, SparkContext\n",
        "# Spark is started. 2 cores used:\n",
        "spark_conf = SparkConf().setMaster('local[2]').setAppName('MyApp')\n",
        "sc = SparkContext(conf=spark_conf)\n",
        "# Importing pyspark SQL for queries: \n",
        "from pyspark.sql import *\n",
        "from pyspark.sql.functions import *\n",
        "\n",
        "# Spark Session is started: \n",
        "# \"SparkSession\" and \"sc\" are key handles in to Spark API\n",
        "##SparkSession.builder.getOrCreate()\n",
        "spark = SparkSession.builder.appName(\"bikes\").getOrCreate()"
      ],
      "metadata": {
        "id": "wWAvMh3Jk1CQ"
      },
      "execution_count": 13,
      "outputs": []
    },
    {
      "cell_type": "code",
      "source": [],
      "metadata": {
        "id": "KsN9yZnrk1fn"
      },
      "execution_count": null,
      "outputs": []
    },
    {
      "cell_type": "markdown",
      "source": [
        "# Section 2: Load File & Priliminary Analysis"
      ],
      "metadata": {
        "id": "a3KzI4O1L96s"
      }
    },
    {
      "cell_type": "markdown",
      "source": [
        "## Defining Spring data: "
      ],
      "metadata": {
        "id": "gipveXYDGrMX"
      }
    },
    {
      "cell_type": "code",
      "source": [
        "# Defining Spring : \n",
        "# By researching (metoffice.gov.uk), the Spring season is defined as the period between 20 March'14 - 21 June'14. \n",
        "\n",
        "# This data is present in 4 different files namely, \n",
        "# 3.* (02 Mar - 31 Mar)\n",
        "# 4.* (01 April - 26 April)\n",
        "# 5.* (27 April - 24 May)\n",
        "# 6.* (25 May - 21 June)\n",
        "\n",
        "# Reading these files into a new dataframe called spring14_df\n",
        "\n",
        "\n",
        "spring14_df = (spark.read.format(\"csv\")\n",
        "         .option(\"header\", \"true\")\n",
        "         .option(\"inferSchema\", \"true\")\n",
        "         .load(['./3.*csv', './4.*csv', './5.*csv', './6.*csv' ]))\n",
        "\n",
        "print(\"The Spring (including 02-19Mar) dataframe has\", spring14_df.count(), \" entries\")"
      ],
      "metadata": {
        "id": "XzWCy04ak17X",
        "colab": {
          "base_uri": "https://localhost:8080/"
        },
        "outputId": "3e4dc298-bdc1-47c4-9e8c-9a566c0820c9"
      },
      "execution_count": 14,
      "outputs": [
        {
          "output_type": "stream",
          "name": "stdout",
          "text": [
            "The Spring (including 02-19Mar) dataframe has 3146046  entries\n"
          ]
        }
      ]
    },
    {
      "cell_type": "code",
      "source": [
        "# Printing the schema to check the column details: \n",
        "\n",
        "spring14_df.printSchema()"
      ],
      "metadata": {
        "colab": {
          "base_uri": "https://localhost:8080/"
        },
        "id": "3716ChkhWwvS",
        "outputId": "b6d40c48-a548-4538-8b57-c47a673842d6"
      },
      "execution_count": 61,
      "outputs": [
        {
          "output_type": "stream",
          "name": "stdout",
          "text": [
            "root\n",
            " |-- Rental Id: string (nullable = true)\n",
            " |-- Duration: string (nullable = true)\n",
            " |-- Bike Id: string (nullable = true)\n",
            " |-- End Date: string (nullable = true)\n",
            " |-- EndStation Id: string (nullable = true)\n",
            " |-- EndStation Name: string (nullable = true)\n",
            " |-- Start Date: string (nullable = true)\n",
            " |-- StartStation Id: string (nullable = true)\n",
            " |-- StartStation Name: string (nullable = true)\n",
            " |-- _c9: string (nullable = true)\n",
            " |-- _c10: string (nullable = true)\n",
            " |-- _c11: string (nullable = true)\n",
            "\n"
          ]
        }
      ]
    },
    {
      "cell_type": "code",
      "source": [
        "# Checking these extra columns if they may need\n",
        "\n",
        "spring14_df[[\"_c9\", \"_c10\", \"_c11\"]].distinct().show()"
      ],
      "metadata": {
        "colab": {
          "base_uri": "https://localhost:8080/"
        },
        "id": "kz5WPypaXz-R",
        "outputId": "2c2d299f-a869-4c8b-cfcb-ce6b2ea5bc41"
      },
      "execution_count": 62,
      "outputs": [
        {
          "output_type": "stream",
          "name": "stdout",
          "text": [
            "+----+----+----+\n",
            "| _c9|_c10|_c11|\n",
            "+----+----+----+\n",
            "|null|null|null|\n",
            "+----+----+----+\n",
            "\n"
          ]
        }
      ]
    },
    {
      "cell_type": "code",
      "source": [
        "# Dropping these columns:\n",
        "\n",
        "columns_to_drop = [\"_c9\", \"_c10\", \"_c11\"]\n",
        "spring14_df = spring14_df.drop(*columns_to_drop)"
      ],
      "metadata": {
        "id": "Go99B5tkYLh3"
      },
      "execution_count": 63,
      "outputs": []
    },
    {
      "cell_type": "code",
      "source": [
        "spring14_df.printSchema()"
      ],
      "metadata": {
        "colab": {
          "base_uri": "https://localhost:8080/"
        },
        "id": "HVk92VNsZxuh",
        "outputId": "cbe2c5f7-4fae-42e3-93f6-a048b1996722"
      },
      "execution_count": 64,
      "outputs": [
        {
          "output_type": "stream",
          "name": "stdout",
          "text": [
            "root\n",
            " |-- Rental Id: string (nullable = true)\n",
            " |-- Duration: string (nullable = true)\n",
            " |-- Bike Id: string (nullable = true)\n",
            " |-- End Date: string (nullable = true)\n",
            " |-- EndStation Id: string (nullable = true)\n",
            " |-- EndStation Name: string (nullable = true)\n",
            " |-- Start Date: string (nullable = true)\n",
            " |-- StartStation Id: string (nullable = true)\n",
            " |-- StartStation Name: string (nullable = true)\n",
            "\n"
          ]
        }
      ]
    },
    {
      "cell_type": "code",
      "source": [
        "# The previous dataframe also has data of the period 02 Mar - 19 Mar'14 which has to be filtered. \n",
        "# As the Spring is defined from 20 March. \n",
        "\n",
        "# conversion to expected timestamp format so can filter, and alias so easily refer to 'start'\n",
        "newspring_df = spring14_df.select(to_timestamp(col(\"Start Date\"), format=\"dd/MM/yyyy HH:mm\").alias(\"start\"), \"Duration\", \"Bike Id\")\n",
        "\n",
        "# Filtering the data of the period 02Mar-19Mar from the dataframe: \n",
        "# By taking the data after 23.59 Hours of 19 March which will fetch the data from 20 March onwards until 21 June'14. \n",
        "\n",
        "spring_df = newspring_df.filter(newspring_df.start > \"2014-03-19 23:59:59\")\n",
        "spring_df.count()"
      ],
      "metadata": {
        "id": "rp7XnWcjk2yP",
        "colab": {
          "base_uri": "https://localhost:8080/"
        },
        "outputId": "dafebc3f-4228-401a-efc1-1a6a4a8e3792"
      },
      "execution_count": 65,
      "outputs": [
        {
          "output_type": "execute_result",
          "data": {
            "text/plain": [
              "2691350"
            ]
          },
          "metadata": {},
          "execution_count": 65
        }
      ]
    },
    {
      "cell_type": "code",
      "source": [
        "# Checking whether the filter correctly worked. We should see the data only from 20 March onwards. (ascending = True)\n",
        "# Until 21 June 2014. (ascending = False)\n",
        "print(\"The spring data starts from 20 March 2014\")\n",
        "spring_df.sort(\"start\", ascending = True).show(5)\n",
        "\n",
        "print(\"The spring data ends at 21 June 2014\")\n",
        "spring_df.sort(\"start\", ascending = False).show(5)"
      ],
      "metadata": {
        "id": "aTvYUlgmk3Pv",
        "colab": {
          "base_uri": "https://localhost:8080/"
        },
        "outputId": "c81f43af-717c-412c-cd98-87e5eba3051b"
      },
      "execution_count": 66,
      "outputs": [
        {
          "output_type": "stream",
          "name": "stdout",
          "text": [
            "The spring data starts from 20 March 2014\n",
            "+-------------------+--------+-------+\n",
            "|              start|Duration|Bike Id|\n",
            "+-------------------+--------+-------+\n",
            "|2014-03-20 00:00:00|     300|   3656|\n",
            "|2014-03-20 00:00:00|     240|   5599|\n",
            "|2014-03-20 00:01:00|     780|  12203|\n",
            "|2014-03-20 00:02:00|    1560|    146|\n",
            "|2014-03-20 00:02:00|     420|   8545|\n",
            "+-------------------+--------+-------+\n",
            "only showing top 5 rows\n",
            "\n",
            "The spring data ends at 21 June 2014\n",
            "+-------------------+--------+-------+\n",
            "|              start|Duration|Bike Id|\n",
            "+-------------------+--------+-------+\n",
            "|2014-06-21 23:59:00|     300|   5919|\n",
            "|2014-06-21 23:59:00|    1260|  11067|\n",
            "|2014-06-21 23:59:00|     240|  11546|\n",
            "|2014-06-21 23:59:00|     840|  11398|\n",
            "|2014-06-21 23:59:00|     180|   5588|\n",
            "+-------------------+--------+-------+\n",
            "only showing top 5 rows\n",
            "\n"
          ]
        }
      ]
    },
    {
      "cell_type": "code",
      "source": [],
      "metadata": {
        "id": "QlVJXI4jk4AP"
      },
      "execution_count": null,
      "outputs": []
    },
    {
      "cell_type": "markdown",
      "source": [
        "## Defining Autumn data:"
      ],
      "metadata": {
        "id": "AD-CIGpGG5i0"
      }
    },
    {
      "cell_type": "code",
      "source": [
        "# Defining Autumn : \n",
        "# By researching (metoffice.gov.uk), the Autumn season is defined as the period between 23 September'14 - 21 December'14. \n",
        "\n",
        "# This data is present in 7 different files namely, \n",
        "# 10a.* (14 Sep - 27 Sep)\n",
        "# 10b.* (28 Sep - 11 Oct)\n",
        "# 11a.* (12 Oct - 08 Nov)\n",
        "# 11b.* (12 Oct - 08 Nov (contd.,))\n",
        "# 12a.* (09 Nov - 06 Dec)\n",
        "# 12b.* (09 Nov - 06 Dec (contd.,))\n",
        "# 13a.* (07 Dec - 21 Dec)\n",
        "\n",
        "# Reading these files into a new dataframe called autumn14_df\n",
        "\n",
        "\n",
        "autumn14_df = (spark.read.format(\"csv\")\n",
        "         .option(\"header\", \"true\")\n",
        "         .option(\"inferSchema\", \"true\")\n",
        "         .load(['./10a.*csv', './10b.*csv', './11a.*csv', './11b.*csv', './12a.*csv', './12b.*csv', './13a.*csv' ]))\n",
        "\n",
        "print(\"The Autumn (including 14-22 Sep) dataframe has\", autumn14_df.count(), \" entries\")"
      ],
      "metadata": {
        "id": "h3AGJjDlk4SP",
        "colab": {
          "base_uri": "https://localhost:8080/"
        },
        "outputId": "245db6e8-a947-434a-a98c-74e3c4fffe00"
      },
      "execution_count": 17,
      "outputs": [
        {
          "output_type": "stream",
          "name": "stdout",
          "text": [
            "The Autumn (including 14-22 Sep) dataframe has 3114128  entries\n"
          ]
        }
      ]
    },
    {
      "cell_type": "code",
      "source": [
        "# Printing the schema to check the column details: \n",
        "\n",
        "autumn14_df.printSchema()"
      ],
      "metadata": {
        "colab": {
          "base_uri": "https://localhost:8080/"
        },
        "id": "VB6FSDapaU90",
        "outputId": "3bf3ef76-cd13-4694-ff05-734deda18e77"
      },
      "execution_count": 67,
      "outputs": [
        {
          "output_type": "stream",
          "name": "stdout",
          "text": [
            "root\n",
            " |-- Rental Id: string (nullable = true)\n",
            " |-- Duration: string (nullable = true)\n",
            " |-- Bike Id: string (nullable = true)\n",
            " |-- End Date: string (nullable = true)\n",
            " |-- EndStation Id: string (nullable = true)\n",
            " |-- EndStation Name: string (nullable = true)\n",
            " |-- Start Date: string (nullable = true)\n",
            " |-- StartStation Id: string (nullable = true)\n",
            " |-- StartStation Name: string (nullable = true)\n",
            " |-- _c9: string (nullable = true)\n",
            " |-- _c10: string (nullable = true)\n",
            " |-- _c11: string (nullable = true)\n",
            "\n"
          ]
        }
      ]
    },
    {
      "cell_type": "code",
      "source": [
        "# Checking these extra columns if they may need\n",
        "\n",
        "autumn14_df[[\"_c9\", \"_c10\", \"_c11\"]].distinct().show()"
      ],
      "metadata": {
        "colab": {
          "base_uri": "https://localhost:8080/"
        },
        "id": "-jrXQBT9aVlS",
        "outputId": "8dc7a418-8e67-4f7d-f577-8b8d06720819"
      },
      "execution_count": 68,
      "outputs": [
        {
          "output_type": "stream",
          "name": "stdout",
          "text": [
            "+----+----+----+\n",
            "| _c9|_c10|_c11|\n",
            "+----+----+----+\n",
            "|null|null|null|\n",
            "+----+----+----+\n",
            "\n"
          ]
        }
      ]
    },
    {
      "cell_type": "code",
      "source": [
        "# Dropping these columns:\n",
        "\n",
        "autumn14_df = autumn14_df.drop(*columns_to_drop)"
      ],
      "metadata": {
        "id": "UyoaSNvVaWBi"
      },
      "execution_count": 69,
      "outputs": []
    },
    {
      "cell_type": "code",
      "source": [
        "autumn14_df.printSchema()"
      ],
      "metadata": {
        "colab": {
          "base_uri": "https://localhost:8080/"
        },
        "id": "tfT1ZNVfaWUK",
        "outputId": "2139db83-960a-471f-8bdf-01b8e7a3ff01"
      },
      "execution_count": 70,
      "outputs": [
        {
          "output_type": "stream",
          "name": "stdout",
          "text": [
            "root\n",
            " |-- Rental Id: string (nullable = true)\n",
            " |-- Duration: string (nullable = true)\n",
            " |-- Bike Id: string (nullable = true)\n",
            " |-- End Date: string (nullable = true)\n",
            " |-- EndStation Id: string (nullable = true)\n",
            " |-- EndStation Name: string (nullable = true)\n",
            " |-- Start Date: string (nullable = true)\n",
            " |-- StartStation Id: string (nullable = true)\n",
            " |-- StartStation Name: string (nullable = true)\n",
            "\n"
          ]
        }
      ]
    },
    {
      "cell_type": "code",
      "source": [
        "# The previous dataframe also has data of the period 14 Sep - 22 Sep'14 which has to be filtered. \n",
        "# As the Autumn is defined from 23 September. \n",
        "\n",
        "# conversion to expected timestamp format so can filter, and alias so easily refer to 'start'\n",
        "newautumn_df = autumn14_df.select(to_timestamp(col(\"Start Date\"), format=\"dd/MM/yyyy HH:mm\").alias(\"start\"), \"Duration\", \"Bike Id\")\n",
        "\n",
        "# Filtering the data of the period 14 Sep - 22 Sep'14 from the dataframe: \n",
        "# By taking the data after 23.59 Hours of 22 September which will fetch the data from 23 September onwards until 21 December'14. \n",
        "\n",
        "autumn_df = newautumn_df.filter(newautumn_df.start > \"2014-09-22 23:59:59\")\n",
        "autumn_df.count()"
      ],
      "metadata": {
        "id": "jHKMVEn1k4kO",
        "colab": {
          "base_uri": "https://localhost:8080/"
        },
        "outputId": "b75a1f46-d4d9-4d90-9aec-d64e125d6a58"
      },
      "execution_count": 71,
      "outputs": [
        {
          "output_type": "execute_result",
          "data": {
            "text/plain": [
              "2309906"
            ]
          },
          "metadata": {},
          "execution_count": 71
        }
      ]
    },
    {
      "cell_type": "code",
      "source": [
        "# Checking whether the filter correctly worked. We should see the data only from 23 September onwards. (ascending = True)\n",
        "# Until 21 December 2014. (ascending = False)\n",
        "print(\"The autumn data starts from 23 September 2014\")\n",
        "autumn_df.sort(\"start\", ascending = True).show(5)\n",
        "\n",
        "print(\"The autumn data ends at 21 December 2014\")\n",
        "autumn_df.sort(\"start\", ascending = False).show(5)"
      ],
      "metadata": {
        "id": "kYJhfgA1k4zv",
        "colab": {
          "base_uri": "https://localhost:8080/"
        },
        "outputId": "9693e538-5505-485a-8eca-a73ff3961b1f"
      },
      "execution_count": 72,
      "outputs": [
        {
          "output_type": "stream",
          "name": "stdout",
          "text": [
            "The autumn data starts from 23 September 2014\n",
            "+-------------------+--------+-------+\n",
            "|              start|Duration|Bike Id|\n",
            "+-------------------+--------+-------+\n",
            "|2014-09-23 00:00:00|     420|   5554|\n",
            "|2014-09-23 00:01:00|     240|   8023|\n",
            "|2014-09-23 00:01:00|    1140|   6667|\n",
            "|2014-09-23 00:01:00|     540|    445|\n",
            "|2014-09-23 00:01:00|     600|  11062|\n",
            "+-------------------+--------+-------+\n",
            "only showing top 5 rows\n",
            "\n",
            "The autumn data ends at 21 December 2014\n",
            "+-------------------+--------+-------+\n",
            "|              start|Duration|Bike Id|\n",
            "+-------------------+--------+-------+\n",
            "|2014-12-21 23:59:00|    1140|   7985|\n",
            "|2014-12-21 23:58:00|    2940|   9553|\n",
            "|2014-12-21 23:58:00|     600|    597|\n",
            "|2014-12-21 23:58:00|    1200|   9946|\n",
            "|2014-12-21 23:58:00|     300|  10826|\n",
            "+-------------------+--------+-------+\n",
            "only showing top 5 rows\n",
            "\n"
          ]
        }
      ]
    },
    {
      "cell_type": "code",
      "source": [],
      "metadata": {
        "id": "GKWnsAFsk5Ee"
      },
      "execution_count": null,
      "outputs": []
    },
    {
      "cell_type": "markdown",
      "source": [
        "# Section 3: Valid Rides Analysis"
      ],
      "metadata": {
        "id": "XlVnQy_yMOCe"
      }
    },
    {
      "cell_type": "code",
      "source": [
        "# import Python libs\n",
        "import matplotlib.pyplot as plt\n",
        "import pandas as pd\n",
        "import numpy as np"
      ],
      "metadata": {
        "id": "6TnBdaedNRCV"
      },
      "execution_count": 73,
      "outputs": []
    },
    {
      "cell_type": "code",
      "source": [
        "# Converting data to pandas:\n",
        "\n",
        "spring_pdf = spring_df[[\"Bike Id\", \"Duration\"]].toPandas()\n",
        "autumn_pdf = autumn_df[[\"Bike Id\", \"Duration\"]].toPandas()"
      ],
      "metadata": {
        "id": "myFhDg4Qk5T_"
      },
      "execution_count": 74,
      "outputs": []
    },
    {
      "cell_type": "code",
      "source": [
        "#Checking if spring data has any missing values:  \n",
        "\n",
        "variables = pd.DataFrame(columns = ['Variable', 'Number of unique values', 'Number of nulls'])\n",
        "\n",
        "for i, var in enumerate(spring_pdf.columns):\n",
        "  variables.loc[i] = [var, spring_pdf[var].nunique(), spring_pdf[var].isnull().sum()]\n",
        "\n",
        "variables"
      ],
      "metadata": {
        "id": "6Wu5YVHLk5jn",
        "colab": {
          "base_uri": "https://localhost:8080/",
          "height": 112
        },
        "outputId": "632ba0f6-65b2-404e-e22c-ccf424c89bcc"
      },
      "execution_count": 75,
      "outputs": [
        {
          "output_type": "execute_result",
          "data": {
            "text/plain": [
              "   Variable  Number of unique values  Number of nulls\n",
              "0   Bike Id                    11620                0\n",
              "1  Duration                     3050                0"
            ],
            "text/html": [
              "\n",
              "  <div id=\"df-12d9c7af-9cbf-43d8-aa30-3bbd29556760\">\n",
              "    <div class=\"colab-df-container\">\n",
              "      <div>\n",
              "<style scoped>\n",
              "    .dataframe tbody tr th:only-of-type {\n",
              "        vertical-align: middle;\n",
              "    }\n",
              "\n",
              "    .dataframe tbody tr th {\n",
              "        vertical-align: top;\n",
              "    }\n",
              "\n",
              "    .dataframe thead th {\n",
              "        text-align: right;\n",
              "    }\n",
              "</style>\n",
              "<table border=\"1\" class=\"dataframe\">\n",
              "  <thead>\n",
              "    <tr style=\"text-align: right;\">\n",
              "      <th></th>\n",
              "      <th>Variable</th>\n",
              "      <th>Number of unique values</th>\n",
              "      <th>Number of nulls</th>\n",
              "    </tr>\n",
              "  </thead>\n",
              "  <tbody>\n",
              "    <tr>\n",
              "      <th>0</th>\n",
              "      <td>Bike Id</td>\n",
              "      <td>11620</td>\n",
              "      <td>0</td>\n",
              "    </tr>\n",
              "    <tr>\n",
              "      <th>1</th>\n",
              "      <td>Duration</td>\n",
              "      <td>3050</td>\n",
              "      <td>0</td>\n",
              "    </tr>\n",
              "  </tbody>\n",
              "</table>\n",
              "</div>\n",
              "      <button class=\"colab-df-convert\" onclick=\"convertToInteractive('df-12d9c7af-9cbf-43d8-aa30-3bbd29556760')\"\n",
              "              title=\"Convert this dataframe to an interactive table.\"\n",
              "              style=\"display:none;\">\n",
              "        \n",
              "  <svg xmlns=\"http://www.w3.org/2000/svg\" height=\"24px\"viewBox=\"0 0 24 24\"\n",
              "       width=\"24px\">\n",
              "    <path d=\"M0 0h24v24H0V0z\" fill=\"none\"/>\n",
              "    <path d=\"M18.56 5.44l.94 2.06.94-2.06 2.06-.94-2.06-.94-.94-2.06-.94 2.06-2.06.94zm-11 1L8.5 8.5l.94-2.06 2.06-.94-2.06-.94L8.5 2.5l-.94 2.06-2.06.94zm10 10l.94 2.06.94-2.06 2.06-.94-2.06-.94-.94-2.06-.94 2.06-2.06.94z\"/><path d=\"M17.41 7.96l-1.37-1.37c-.4-.4-.92-.59-1.43-.59-.52 0-1.04.2-1.43.59L10.3 9.45l-7.72 7.72c-.78.78-.78 2.05 0 2.83L4 21.41c.39.39.9.59 1.41.59.51 0 1.02-.2 1.41-.59l7.78-7.78 2.81-2.81c.8-.78.8-2.07 0-2.86zM5.41 20L4 18.59l7.72-7.72 1.47 1.35L5.41 20z\"/>\n",
              "  </svg>\n",
              "      </button>\n",
              "      \n",
              "  <style>\n",
              "    .colab-df-container {\n",
              "      display:flex;\n",
              "      flex-wrap:wrap;\n",
              "      gap: 12px;\n",
              "    }\n",
              "\n",
              "    .colab-df-convert {\n",
              "      background-color: #E8F0FE;\n",
              "      border: none;\n",
              "      border-radius: 50%;\n",
              "      cursor: pointer;\n",
              "      display: none;\n",
              "      fill: #1967D2;\n",
              "      height: 32px;\n",
              "      padding: 0 0 0 0;\n",
              "      width: 32px;\n",
              "    }\n",
              "\n",
              "    .colab-df-convert:hover {\n",
              "      background-color: #E2EBFA;\n",
              "      box-shadow: 0px 1px 2px rgba(60, 64, 67, 0.3), 0px 1px 3px 1px rgba(60, 64, 67, 0.15);\n",
              "      fill: #174EA6;\n",
              "    }\n",
              "\n",
              "    [theme=dark] .colab-df-convert {\n",
              "      background-color: #3B4455;\n",
              "      fill: #D2E3FC;\n",
              "    }\n",
              "\n",
              "    [theme=dark] .colab-df-convert:hover {\n",
              "      background-color: #434B5C;\n",
              "      box-shadow: 0px 1px 3px 1px rgba(0, 0, 0, 0.15);\n",
              "      filter: drop-shadow(0px 1px 2px rgba(0, 0, 0, 0.3));\n",
              "      fill: #FFFFFF;\n",
              "    }\n",
              "  </style>\n",
              "\n",
              "      <script>\n",
              "        const buttonEl =\n",
              "          document.querySelector('#df-12d9c7af-9cbf-43d8-aa30-3bbd29556760 button.colab-df-convert');\n",
              "        buttonEl.style.display =\n",
              "          google.colab.kernel.accessAllowed ? 'block' : 'none';\n",
              "\n",
              "        async function convertToInteractive(key) {\n",
              "          const element = document.querySelector('#df-12d9c7af-9cbf-43d8-aa30-3bbd29556760');\n",
              "          const dataTable =\n",
              "            await google.colab.kernel.invokeFunction('convertToInteractive',\n",
              "                                                     [key], {});\n",
              "          if (!dataTable) return;\n",
              "\n",
              "          const docLinkHtml = 'Like what you see? Visit the ' +\n",
              "            '<a target=\"_blank\" href=https://colab.research.google.com/notebooks/data_table.ipynb>data table notebook</a>'\n",
              "            + ' to learn more about interactive tables.';\n",
              "          element.innerHTML = '';\n",
              "          dataTable['output_type'] = 'display_data';\n",
              "          await google.colab.output.renderOutput(dataTable, element);\n",
              "          const docLink = document.createElement('div');\n",
              "          docLink.innerHTML = docLinkHtml;\n",
              "          element.appendChild(docLink);\n",
              "        }\n",
              "      </script>\n",
              "    </div>\n",
              "  </div>\n",
              "  "
            ]
          },
          "metadata": {},
          "execution_count": 75
        }
      ]
    },
    {
      "cell_type": "code",
      "source": [
        "#Checking if autumn data has any missing values: \n",
        "\n",
        "A_Variables = pd.DataFrame(columns = ['Variable', 'Number of unique values', 'Number of nulls'])\n",
        "\n",
        "for i, var in enumerate(autumn_pdf.columns):\n",
        "  A_Variables.loc[i] = [var, autumn_pdf[var].nunique(), autumn_pdf[var].isnull().sum()]\n",
        "\n",
        "A_Variables"
      ],
      "metadata": {
        "id": "WVlNFb5Xk5xn",
        "colab": {
          "base_uri": "https://localhost:8080/",
          "height": 112
        },
        "outputId": "2423e054-0c66-45f0-c346-350ae9e608e7"
      },
      "execution_count": 76,
      "outputs": [
        {
          "output_type": "execute_result",
          "data": {
            "text/plain": [
              "   Variable  Number of unique values  Number of nulls\n",
              "0   Bike Id                    11647                0\n",
              "1  Duration                     2748                0"
            ],
            "text/html": [
              "\n",
              "  <div id=\"df-be498967-2901-4b4c-9521-0ec4f71ec7d9\">\n",
              "    <div class=\"colab-df-container\">\n",
              "      <div>\n",
              "<style scoped>\n",
              "    .dataframe tbody tr th:only-of-type {\n",
              "        vertical-align: middle;\n",
              "    }\n",
              "\n",
              "    .dataframe tbody tr th {\n",
              "        vertical-align: top;\n",
              "    }\n",
              "\n",
              "    .dataframe thead th {\n",
              "        text-align: right;\n",
              "    }\n",
              "</style>\n",
              "<table border=\"1\" class=\"dataframe\">\n",
              "  <thead>\n",
              "    <tr style=\"text-align: right;\">\n",
              "      <th></th>\n",
              "      <th>Variable</th>\n",
              "      <th>Number of unique values</th>\n",
              "      <th>Number of nulls</th>\n",
              "    </tr>\n",
              "  </thead>\n",
              "  <tbody>\n",
              "    <tr>\n",
              "      <th>0</th>\n",
              "      <td>Bike Id</td>\n",
              "      <td>11647</td>\n",
              "      <td>0</td>\n",
              "    </tr>\n",
              "    <tr>\n",
              "      <th>1</th>\n",
              "      <td>Duration</td>\n",
              "      <td>2748</td>\n",
              "      <td>0</td>\n",
              "    </tr>\n",
              "  </tbody>\n",
              "</table>\n",
              "</div>\n",
              "      <button class=\"colab-df-convert\" onclick=\"convertToInteractive('df-be498967-2901-4b4c-9521-0ec4f71ec7d9')\"\n",
              "              title=\"Convert this dataframe to an interactive table.\"\n",
              "              style=\"display:none;\">\n",
              "        \n",
              "  <svg xmlns=\"http://www.w3.org/2000/svg\" height=\"24px\"viewBox=\"0 0 24 24\"\n",
              "       width=\"24px\">\n",
              "    <path d=\"M0 0h24v24H0V0z\" fill=\"none\"/>\n",
              "    <path d=\"M18.56 5.44l.94 2.06.94-2.06 2.06-.94-2.06-.94-.94-2.06-.94 2.06-2.06.94zm-11 1L8.5 8.5l.94-2.06 2.06-.94-2.06-.94L8.5 2.5l-.94 2.06-2.06.94zm10 10l.94 2.06.94-2.06 2.06-.94-2.06-.94-.94-2.06-.94 2.06-2.06.94z\"/><path d=\"M17.41 7.96l-1.37-1.37c-.4-.4-.92-.59-1.43-.59-.52 0-1.04.2-1.43.59L10.3 9.45l-7.72 7.72c-.78.78-.78 2.05 0 2.83L4 21.41c.39.39.9.59 1.41.59.51 0 1.02-.2 1.41-.59l7.78-7.78 2.81-2.81c.8-.78.8-2.07 0-2.86zM5.41 20L4 18.59l7.72-7.72 1.47 1.35L5.41 20z\"/>\n",
              "  </svg>\n",
              "      </button>\n",
              "      \n",
              "  <style>\n",
              "    .colab-df-container {\n",
              "      display:flex;\n",
              "      flex-wrap:wrap;\n",
              "      gap: 12px;\n",
              "    }\n",
              "\n",
              "    .colab-df-convert {\n",
              "      background-color: #E8F0FE;\n",
              "      border: none;\n",
              "      border-radius: 50%;\n",
              "      cursor: pointer;\n",
              "      display: none;\n",
              "      fill: #1967D2;\n",
              "      height: 32px;\n",
              "      padding: 0 0 0 0;\n",
              "      width: 32px;\n",
              "    }\n",
              "\n",
              "    .colab-df-convert:hover {\n",
              "      background-color: #E2EBFA;\n",
              "      box-shadow: 0px 1px 2px rgba(60, 64, 67, 0.3), 0px 1px 3px 1px rgba(60, 64, 67, 0.15);\n",
              "      fill: #174EA6;\n",
              "    }\n",
              "\n",
              "    [theme=dark] .colab-df-convert {\n",
              "      background-color: #3B4455;\n",
              "      fill: #D2E3FC;\n",
              "    }\n",
              "\n",
              "    [theme=dark] .colab-df-convert:hover {\n",
              "      background-color: #434B5C;\n",
              "      box-shadow: 0px 1px 3px 1px rgba(0, 0, 0, 0.15);\n",
              "      filter: drop-shadow(0px 1px 2px rgba(0, 0, 0, 0.3));\n",
              "      fill: #FFFFFF;\n",
              "    }\n",
              "  </style>\n",
              "\n",
              "      <script>\n",
              "        const buttonEl =\n",
              "          document.querySelector('#df-be498967-2901-4b4c-9521-0ec4f71ec7d9 button.colab-df-convert');\n",
              "        buttonEl.style.display =\n",
              "          google.colab.kernel.accessAllowed ? 'block' : 'none';\n",
              "\n",
              "        async function convertToInteractive(key) {\n",
              "          const element = document.querySelector('#df-be498967-2901-4b4c-9521-0ec4f71ec7d9');\n",
              "          const dataTable =\n",
              "            await google.colab.kernel.invokeFunction('convertToInteractive',\n",
              "                                                     [key], {});\n",
              "          if (!dataTable) return;\n",
              "\n",
              "          const docLinkHtml = 'Like what you see? Visit the ' +\n",
              "            '<a target=\"_blank\" href=https://colab.research.google.com/notebooks/data_table.ipynb>data table notebook</a>'\n",
              "            + ' to learn more about interactive tables.';\n",
              "          element.innerHTML = '';\n",
              "          dataTable['output_type'] = 'display_data';\n",
              "          await google.colab.output.renderOutput(dataTable, element);\n",
              "          const docLink = document.createElement('div');\n",
              "          docLink.innerHTML = docLinkHtml;\n",
              "          element.appendChild(docLink);\n",
              "        }\n",
              "      </script>\n",
              "    </div>\n",
              "  </div>\n",
              "  "
            ]
          },
          "metadata": {},
          "execution_count": 76
        }
      ]
    },
    {
      "cell_type": "code",
      "source": [
        "# Result: Both the data has no missing values. "
      ],
      "metadata": {
        "id": "fiLMGjF2rpbk"
      },
      "execution_count": 116,
      "outputs": []
    },
    {
      "cell_type": "code",
      "source": [
        "# Checking the mode value of Duration for both the seasons: \n",
        "\n",
        "spring_pdf['Duration'].mode()\n",
        "autumn_pdf['Duration'].mode()"
      ],
      "metadata": {
        "id": "4ywL9UPWk5_G",
        "colab": {
          "base_uri": "https://localhost:8080/"
        },
        "outputId": "7ada0a81-020f-40a9-f832-542a40b7ea06"
      },
      "execution_count": 77,
      "outputs": [
        {
          "output_type": "execute_result",
          "data": {
            "text/plain": [
              "0    480\n",
              "Name: Duration, dtype: object"
            ]
          },
          "metadata": {},
          "execution_count": 77
        }
      ]
    },
    {
      "cell_type": "code",
      "source": [
        "# The results state that the most frequent Duration is 0 for spring data and 480 seconds (8 mins) for autumn data. "
      ],
      "metadata": {
        "id": "awS7MhioWyD4"
      },
      "execution_count": null,
      "outputs": []
    },
    {
      "cell_type": "code",
      "source": [
        "# Deep diven to check whether the Duration has any outliers:\n",
        "\n",
        "spring_df.agg({\"Duration\": \"min\"}).show()\n",
        "spring_df.agg({\"Duration\": \"max\"}).show()\n",
        "spring_df.agg({\"Duration\": \"mean\"}).show()"
      ],
      "metadata": {
        "id": "3Mv1Vswzk6NX",
        "colab": {
          "base_uri": "https://localhost:8080/"
        },
        "outputId": "4b812715-968f-4181-9db3-7a5fedd4702c"
      },
      "execution_count": 78,
      "outputs": [
        {
          "output_type": "stream",
          "name": "stdout",
          "text": [
            "+-------------+\n",
            "|min(Duration)|\n",
            "+-------------+\n",
            "|            0|\n",
            "+-------------+\n",
            "\n",
            "+-------------+\n",
            "|max(Duration)|\n",
            "+-------------+\n",
            "|        99900|\n",
            "+-------------+\n",
            "\n",
            "+------------------+\n",
            "|     avg(Duration)|\n",
            "+------------------+\n",
            "|1522.0841287829528|\n",
            "+------------------+\n",
            "\n"
          ]
        }
      ]
    },
    {
      "cell_type": "code",
      "source": [
        "autumn_df.agg({\"Duration\": \"min\"}).show()\n",
        "autumn_df.agg({\"Duration\": \"max\"}).show()\n",
        "autumn_df.agg({\"Duration\": \"mean\"}).show()"
      ],
      "metadata": {
        "id": "YUjDrJqZk6a2",
        "colab": {
          "base_uri": "https://localhost:8080/"
        },
        "outputId": "049748a6-11c0-4607-92da-72cac26c81ce"
      },
      "execution_count": 26,
      "outputs": [
        {
          "output_type": "stream",
          "name": "stdout",
          "text": [
            "+-------------+\n",
            "|min(Duration)|\n",
            "+-------------+\n",
            "|        -1020|\n",
            "+-------------+\n",
            "\n",
            "+-------------+\n",
            "|max(Duration)|\n",
            "+-------------+\n",
            "|        99900|\n",
            "+-------------+\n",
            "\n",
            "+------------------+\n",
            "|     avg(Duration)|\n",
            "+------------------+\n",
            "|1305.4893575755896|\n",
            "+------------------+\n",
            "\n"
          ]
        }
      ]
    },
    {
      "cell_type": "code",
      "source": [
        "# The results state that the average Duration of Spring season is roughly around 25 mins whereas for Autumn 22 mins. \n",
        "# However, the minimum & maximum duration values still has outliers which has to be cleaned. "
      ],
      "metadata": {
        "id": "eZoBQ7yZk6qv"
      },
      "execution_count": 117,
      "outputs": []
    },
    {
      "cell_type": "code",
      "source": [],
      "metadata": {
        "id": "_J5Su_0svLd0"
      },
      "execution_count": null,
      "outputs": []
    },
    {
      "cell_type": "markdown",
      "source": [
        "## Outlier removal of Spring data:"
      ],
      "metadata": {
        "id": "gp9RVzN1vOiU"
      }
    },
    {
      "cell_type": "code",
      "source": [
        "# Random sampling of spring data & data converted to pandas for further analysis and to plot. \n",
        "\n",
        "sample_spring_df=spring_df.sample(0.001) # 0.001 of 2.7M is roughly 2700\n",
        "print(\"spring sample has \", sample_spring_df.count(),\" elements\")\n",
        "\n",
        "sample_spring_pdf = sample_spring_df[[\"Bike Id\", \"Duration\"]].toPandas()"
      ],
      "metadata": {
        "id": "ZLXK0WqKk633",
        "colab": {
          "base_uri": "https://localhost:8080/"
        },
        "outputId": "338950be-1caf-43be-e2ab-cff7983593cd"
      },
      "execution_count": 27,
      "outputs": [
        {
          "output_type": "stream",
          "name": "stdout",
          "text": [
            "spring sample has  2597  elements\n"
          ]
        }
      ]
    },
    {
      "cell_type": "code",
      "source": [
        "sample_spring_pdf.info()\n",
        "\n"
      ],
      "metadata": {
        "colab": {
          "base_uri": "https://localhost:8080/"
        },
        "id": "Mp1nwrKRjvUo",
        "outputId": "4db6b4f8-2ecf-4245-9d0b-a58407f467b3"
      },
      "execution_count": 28,
      "outputs": [
        {
          "output_type": "stream",
          "name": "stdout",
          "text": [
            "<class 'pandas.core.frame.DataFrame'>\n",
            "RangeIndex: 2597 entries, 0 to 2596\n",
            "Data columns (total 2 columns):\n",
            " #   Column    Non-Null Count  Dtype \n",
            "---  ------    --------------  ----- \n",
            " 0   Bike Id   2597 non-null   object\n",
            " 1   Duration  2597 non-null   object\n",
            "dtypes: object(2)\n",
            "memory usage: 40.7+ KB\n"
          ]
        }
      ]
    },
    {
      "cell_type": "code",
      "source": [
        "#Since the datatype is \"object\", converting to \"integer\" for plotting purposes. "
      ],
      "metadata": {
        "id": "vehj5Lz8skwy"
      },
      "execution_count": null,
      "outputs": []
    },
    {
      "cell_type": "code",
      "source": [
        "sample_spring_pdf['Duration'] = sample_spring_pdf['Duration'].astype(int)"
      ],
      "metadata": {
        "id": "t6449q7ZkL0Q"
      },
      "execution_count": 29,
      "outputs": []
    },
    {
      "cell_type": "code",
      "source": [
        "sample_spring_pdf['Bike Id'] = sample_spring_pdf['Bike Id'].astype(int)"
      ],
      "metadata": {
        "id": "A_nXql4IkY_N"
      },
      "execution_count": 30,
      "outputs": []
    },
    {
      "cell_type": "code",
      "source": [
        "#New column \"Minutes\" is created for better visualization of the plot. This is achieved by dividing the Distance value (seconds) by 60. "
      ],
      "metadata": {
        "id": "n5MbpRi0sowh"
      },
      "execution_count": null,
      "outputs": []
    },
    {
      "cell_type": "code",
      "source": [
        "sample_spring_pdf['Minutes'] = sample_spring_pdf['Duration'] / 60"
      ],
      "metadata": {
        "id": "tq4K-lQIh0Qt"
      },
      "execution_count": 31,
      "outputs": []
    },
    {
      "cell_type": "code",
      "source": [
        "# Scatter plot (Minutes Vs Bike Id)\n",
        "ax2= sample_spring_pdf.plot(kind=\"scatter\", y=\"Minutes\", x=\"Bike Id\") \n",
        "ax2.set_ylim([0, 300])\n",
        "plt.show()"
      ],
      "metadata": {
        "colab": {
          "base_uri": "https://localhost:8080/",
          "height": 455
        },
        "id": "O9SNUVfckl7k",
        "outputId": "b507fab3-a6bb-4159-f9e2-0ca0dc9355e0"
      },
      "execution_count": 32,
      "outputs": [
        {
          "output_type": "display_data",
          "data": {
            "text/plain": [
              "<Figure size 640x480 with 1 Axes>"
            ],
            "image/png": "[encoded data removed]"
          },
          "metadata": {}
        }
      ]
    },
    {
      "cell_type": "code",
      "source": [
        "# It is infered from the scatter plot of Spring data that most of the ride happens under 50 minutes. "
      ],
      "metadata": {
        "id": "L7OEEISatEYR"
      },
      "execution_count": null,
      "outputs": []
    },
    {
      "cell_type": "code",
      "source": [
        "# Kernel density distribution plot is plotted to understand the distribution of the Duration of Spring. "
      ],
      "metadata": {
        "id": "Nmq-d1qotU4_"
      },
      "execution_count": null,
      "outputs": []
    },
    {
      "cell_type": "code",
      "source": [
        "import seaborn as sns\n",
        "import scipy as sp\n",
        "sns.set(\n",
        "    { \"figure.figsize\": (11,7) },\n",
        "    palette=\"Set3\",\n",
        "    style='ticks'\n",
        ")"
      ],
      "metadata": {
        "id": "S0wRCmdCk73f"
      },
      "execution_count": 33,
      "outputs": []
    },
    {
      "cell_type": "code",
      "source": [
        "sns.kdeplot(np.log2(sample_spring_pdf.loc[ sample_spring_pdf['Duration']>0, 'Duration']))"
      ],
      "metadata": {
        "id": "QZ7SIbnVk8Y2",
        "colab": {
          "base_uri": "https://localhost:8080/",
          "height": 636
        },
        "outputId": "e55f3498-b890-4e3c-d2ca-1f9ffc42026c"
      },
      "execution_count": 34,
      "outputs": [
        {
          "output_type": "execute_result",
          "data": {
            "text/plain": [
              "<Axes: xlabel='Duration', ylabel='Density'>"
            ]
          },
          "metadata": {},
          "execution_count": 34
        },
        {
          "output_type": "display_data",
          "data": {
            "text/plain": [
              "<Figure size 1100x700 with 1 Axes>"
            ],
            "image/png": "[encoded data removed]"
          },
          "metadata": {}
        }
      ]
    },
    {
      "cell_type": "code",
      "source": [
        "# The results states that during spring season, most duration of rides happened roughly between 2 minutes - 2 hours. ((2^7) - (2^13))"
      ],
      "metadata": {
        "id": "e74_YeVgk8j3"
      },
      "execution_count": null,
      "outputs": []
    },
    {
      "cell_type": "code",
      "source": [
        "totalspring = spring_df.count()\n",
        "spring_final_df = spring_df.filter(\"Duration >= 128\").filter(\"Duration <= 8192\")[[\"Duration\"]]\n",
        "a = spring_final_df.count()\n",
        "print(\"After removing outliers, percentage of data considered for Spring i.e, the data in the range of 2 mins to 2.3 hours:\" ,(a*100)/totalspring)"
      ],
      "metadata": {
        "colab": {
          "base_uri": "https://localhost:8080/"
        },
        "id": "s4u27E7UvZdc",
        "outputId": "2061cb5f-d2f6-4869-a220-9b5e3fd39d81"
      },
      "execution_count": 35,
      "outputs": [
        {
          "output_type": "stream",
          "name": "stdout",
          "text": [
            "After removing outliers, percentage of data considered for Spring i.e, the data in the range of 2 mins to 2.3 hours: 97.26962305162837\n"
          ]
        }
      ]
    },
    {
      "cell_type": "code",
      "source": [
        "spring_final_df.printSchema()"
      ],
      "metadata": {
        "colab": {
          "base_uri": "https://localhost:8080/"
        },
        "id": "IifwnVondwip",
        "outputId": "633b27fe-cb1c-4639-fb4d-cd2e6a995d98"
      },
      "execution_count": 86,
      "outputs": [
        {
          "output_type": "stream",
          "name": "stdout",
          "text": [
            "root\n",
            " |-- Duration: string (nullable = true)\n",
            "\n"
          ]
        }
      ]
    },
    {
      "cell_type": "code",
      "source": [
        "# To convert string column into integer:\n",
        "\n",
        "from pyspark.sql.types import IntegerType\n",
        "spring_final_df = spring_final_df.withColumn(\"Duration\", spring_final_df[\"Duration\"].cast(IntegerType()))"
      ],
      "metadata": {
        "id": "YfZBwBmyeUO6"
      },
      "execution_count": 87,
      "outputs": []
    },
    {
      "cell_type": "code",
      "source": [
        "spring_final_df.printSchema()"
      ],
      "metadata": {
        "colab": {
          "base_uri": "https://localhost:8080/"
        },
        "id": "wOZeGDquex2n",
        "outputId": "67d5da9d-8610-4b12-f7d5-eed7200c8d0e"
      },
      "execution_count": 88,
      "outputs": [
        {
          "output_type": "stream",
          "name": "stdout",
          "text": [
            "root\n",
            " |-- Duration: integer (nullable = true)\n",
            "\n"
          ]
        }
      ]
    },
    {
      "cell_type": "code",
      "source": [
        "#A Hist plot to understand the skewness of Spring data: \n",
        "\n",
        "spring_final_pdf = spring_final_df.toPandas()\n",
        "spring_final_pdf['Duration'] = spring_final_pdf['Duration'].astype(int)\n",
        "spring_final_pdf.plot(kind=\"hist\", bins=50, log=True)\n",
        "plt.show()"
      ],
      "metadata": {
        "colab": {
          "base_uri": "https://localhost:8080/",
          "height": 599
        },
        "id": "T7SNEWRLvcPD",
        "outputId": "a0ae416c-7952-4649-b01c-a75ba43af771"
      },
      "execution_count": 36,
      "outputs": [
        {
          "output_type": "display_data",
          "data": {
            "text/plain": [
              "<Figure size 1100x700 with 1 Axes>"
            ],
            "image/png": "[encoded data removed]"
          },
          "metadata": {}
        }
      ]
    },
    {
      "cell_type": "code",
      "source": [
        "# It is observed that more shorter rides that is less than 15 mins has happened during Spring with an average of nearly 30 mins. \n",
        "# It is also seen that very less number of longer rides i.e, more than 1 hour. "
      ],
      "metadata": {
        "id": "Dpb6T26tvdCS"
      },
      "execution_count": null,
      "outputs": []
    },
    {
      "cell_type": "markdown",
      "source": [
        "## Outlier removal of Autumn data:"
      ],
      "metadata": {
        "id": "CTcrQSSK93GD"
      }
    },
    {
      "cell_type": "code",
      "source": [
        "# For better understanding, let's take 2 samples and union them to one dataframe for further analysis. \n",
        "\n",
        "Autumn_A_df = autumn_df.sample(0.0005)  # 0.0005 of 2.3M is roughly 1100\n",
        "print(\"Autumn_A_ sample has \", Autumn_A_df.count(),\" elements\")\n",
        "\n",
        "Autumn_B_df = autumn_df.sample(0.0007) # 0.0007 of 2.3M is roughly 1600\n",
        "print(\"Autumn_B_ sample has \", Autumn_B_df.count(),\" elements\")\n"
      ],
      "metadata": {
        "colab": {
          "base_uri": "https://localhost:8080/"
        },
        "id": "eJ7caToKverj",
        "outputId": "e6023964-a47b-43eb-b5bf-9e9361fe4380"
      },
      "execution_count": 37,
      "outputs": [
        {
          "output_type": "stream",
          "name": "stdout",
          "text": [
            "Autumn_A_ sample has  1153  elements\n",
            "Autumn_B_ sample has  1626  elements\n"
          ]
        }
      ]
    },
    {
      "cell_type": "code",
      "source": [
        "# now combine in to one dataframe (same schema (contrast 'join') but keeping all rows of data)\n",
        "# this is a UNION\n",
        "sample_autumn_df = Autumn_A_df.union(Autumn_B_df)\n",
        "print(\"Autumn sample count: \",sample_autumn_df.count())\n",
        "sample_autumn_df.show(5)"
      ],
      "metadata": {
        "colab": {
          "base_uri": "https://localhost:8080/"
        },
        "id": "_5jzY_Vyvgnz",
        "outputId": "6dbf2ba7-9d01-43ac-d747-4939fd9eef79"
      },
      "execution_count": 38,
      "outputs": [
        {
          "output_type": "stream",
          "name": "stdout",
          "text": [
            "Autumn sample count:  2779\n",
            "+-------------------+--------+-------+\n",
            "|              start|Duration|Bike Id|\n",
            "+-------------------+--------+-------+\n",
            "|2014-09-28 03:29:00|    1380|   5462|\n",
            "|2014-09-28 11:15:00|     960|   6592|\n",
            "|2014-09-28 13:38:00|     540|  12825|\n",
            "|2014-09-28 13:41:00|    1200|   2354|\n",
            "|2014-09-28 13:56:00|    8160|   1036|\n",
            "+-------------------+--------+-------+\n",
            "only showing top 5 rows\n",
            "\n"
          ]
        }
      ]
    },
    {
      "cell_type": "code",
      "source": [
        "# Converting Autumn sample to Pandas & changing the datatype for further investigation: \n",
        "\n",
        "sample_autumn_pdf = sample_autumn_df[[\"Bike Id\", \"Duration\"]].toPandas()\n",
        "sample_autumn_pdf['Duration'] = sample_autumn_pdf['Duration'].astype(int)\n",
        "sample_autumn_pdf['Bike Id'] = sample_autumn_pdf['Bike Id'].astype(int)"
      ],
      "metadata": {
        "id": "Z3V9l-IcvhCK"
      },
      "execution_count": 39,
      "outputs": []
    },
    {
      "cell_type": "code",
      "source": [
        "#Adding a Minutes column: \n",
        "sample_autumn_pdf['Minutes'] = sample_autumn_pdf['Duration'] / 60"
      ],
      "metadata": {
        "id": "UgyD8RsFviJi"
      },
      "execution_count": 40,
      "outputs": []
    },
    {
      "cell_type": "code",
      "source": [
        "# Scatter plot (Minutes Vs Bike Id)\n",
        "ax2= sample_autumn_pdf.plot(kind=\"scatter\", y=\"Minutes\", x=\"Bike Id\", color=\"violet\")\n",
        "ax2.set_ylim([0, 100])\n",
        "plt.show()"
      ],
      "metadata": {
        "colab": {
          "base_uri": "https://localhost:8080/",
          "height": 624
        },
        "id": "2IFYomWGvijK",
        "outputId": "fff991dd-2e61-476e-9687-78eb25a6dc8b"
      },
      "execution_count": 41,
      "outputs": [
        {
          "output_type": "display_data",
          "data": {
            "text/plain": [
              "<Figure size 1100x700 with 1 Axes>"
            ],
            "image/png": "[encoded data removed]"
          },
          "metadata": {}
        }
      ]
    },
    {
      "cell_type": "code",
      "source": [
        "# It is infered from the scatter plot of Autumn data that most of the ride happens under 40 minutes. "
      ],
      "metadata": {
        "id": "vT9RboJFvjpC"
      },
      "execution_count": null,
      "outputs": []
    },
    {
      "cell_type": "code",
      "source": [
        "#A distribution plot of Autumn sample data where ride above 2 minutes is considered because the rides less than 2 mins are considered to be outliers. \n",
        "\n",
        "sns.histplot(x=sample_autumn_pdf.loc[sample_autumn_pdf['Duration']>128, 'Duration'], kde=True, bins=70, color=\"violet\")"
      ],
      "metadata": {
        "colab": {
          "base_uri": "https://localhost:8080/",
          "height": 636
        },
        "id": "MSc0gux9vkRy",
        "outputId": "325bb7bb-8ba8-4f8c-8c0d-0ac439b6188b"
      },
      "execution_count": 42,
      "outputs": [
        {
          "output_type": "execute_result",
          "data": {
            "text/plain": [
              "<Axes: xlabel='Duration', ylabel='Count'>"
            ]
          },
          "metadata": {},
          "execution_count": 42
        },
        {
          "output_type": "display_data",
          "data": {
            "text/plain": [
              "<Figure size 1100x700 with 1 Axes>"
            ],
            "image/png": "[encoded data removed]"
          },
          "metadata": {}
        }
      ]
    },
    {
      "cell_type": "code",
      "source": [
        "#This plot again tells that the Autumn data has to be refined as it contains outliers. "
      ],
      "metadata": {
        "id": "S5O7nhLvvkvi"
      },
      "execution_count": null,
      "outputs": []
    },
    {
      "cell_type": "code",
      "source": [
        "from statsmodels.distributions.empirical_distribution import ECDF\n",
        "from matplotlib import pyplot"
      ],
      "metadata": {
        "id": "Ek2_8MhGE45Q"
      },
      "execution_count": 43,
      "outputs": []
    },
    {
      "cell_type": "code",
      "source": [
        "# Let's understand the peak (most riden) distribution of Autumn data which helps to refine the data. \n",
        "cdf = ECDF(np.log2(sample_autumn_pdf.loc[ sample_autumn_pdf[ 'Duration']>0, 'Duration']))\n",
        "pyplot.plot(cdf.x, cdf.y, color=\"violet\")\n",
        "pyplot.show()"
      ],
      "metadata": {
        "colab": {
          "base_uri": "https://localhost:8080/",
          "height": 599
        },
        "id": "hvha1EiCCwvt",
        "outputId": "321a4fb0-e90e-4ff0-c615-de9b0d6b493c"
      },
      "execution_count": 44,
      "outputs": [
        {
          "output_type": "display_data",
          "data": {
            "text/plain": [
              "<Figure size 1100x700 with 1 Axes>"
            ],
            "image/png": "[encoded data removed]"
          },
          "metadata": {}
        }
      ]
    },
    {
      "cell_type": "code",
      "source": [
        "# The results states that during Autumn season, most duration of rides happened roughly between 2 minutes - just above 1 hour. ((2^7) - (2^12))"
      ],
      "metadata": {
        "id": "N7i7TlQxCxMj"
      },
      "execution_count": null,
      "outputs": []
    },
    {
      "cell_type": "code",
      "source": [
        "totalautumn = autumn_df.count()\n",
        "autumn_final_df = autumn_df.filter(\"Duration >= 128\").filter(\"Duration <= 8192\")[[\"Duration\"]]\n",
        "b= autumn_final_df.count()\n",
        "print(\"After removing outliers, percentage of data considered for Autumn i.e, the data in the range of 2 mins to 2.3 hours:\" ,(b*100)/totalautumn)"
      ],
      "metadata": {
        "colab": {
          "base_uri": "https://localhost:8080/"
        },
        "id": "_SYhy1b4Cx4E",
        "outputId": "80dab885-3fdc-48b5-a3cf-4576d46fe431"
      },
      "execution_count": 48,
      "outputs": [
        {
          "output_type": "stream",
          "name": "stdout",
          "text": [
            "After removing outliers, percentage of data considered for Autumn i.e, the data in the range of 2 mins to 2.3 hours: 97.55708673859456\n"
          ]
        }
      ]
    },
    {
      "cell_type": "code",
      "source": [
        "#To convert the column to interger type:\n",
        "\n",
        "autumn_final_df = autumn_final_df.withColumn(\"Duration\", autumn_final_df[\"Duration\"].cast(IntegerType()))"
      ],
      "metadata": {
        "id": "3D3yPEaQfCs8"
      },
      "execution_count": 89,
      "outputs": []
    },
    {
      "cell_type": "code",
      "source": [
        "autumn_final_df.printSchema()"
      ],
      "metadata": {
        "colab": {
          "base_uri": "https://localhost:8080/"
        },
        "id": "DA-72SnVfUbg",
        "outputId": "b2dcca2c-e28c-4123-b708-495889d4641b"
      },
      "execution_count": 90,
      "outputs": [
        {
          "output_type": "stream",
          "name": "stdout",
          "text": [
            "root\n",
            " |-- Duration: integer (nullable = true)\n",
            "\n"
          ]
        }
      ]
    },
    {
      "cell_type": "code",
      "source": [
        "#A Hist plot to understand the skewness of Autumn data: \n",
        "\n",
        "autumn_final_pdf = autumn_final_df.toPandas()\n",
        "autumn_final_pdf['Duration'] = autumn_final_pdf['Duration'].astype(int)\n",
        "autumn_final_pdf.plot(kind=\"hist\", bins=50, log=True, color = 'violet')\n",
        "plt.show()"
      ],
      "metadata": {
        "colab": {
          "base_uri": "https://localhost:8080/",
          "height": 599
        },
        "id": "oL_Peci6C218",
        "outputId": "1b2866de-b942-4a12-da7e-6d5f2a21dc0e"
      },
      "execution_count": 51,
      "outputs": [
        {
          "output_type": "display_data",
          "data": {
            "text/plain": [
              "<Figure size 1100x700 with 1 Axes>"
            ],
            "image/png": "[encoded data removed]"
          },
          "metadata": {}
        }
      ]
    },
    {
      "cell_type": "code",
      "source": [
        "# It is observed that more shorter rides that is less than 15 mins has happened during Autumn as well with an average of nearly 30 mins. \n",
        "# It is also seen that very less number of longer rides i.e, more than 1 hour just like Spring data.  "
      ],
      "metadata": {
        "id": "2IHd8n3VC4Gk"
      },
      "execution_count": null,
      "outputs": []
    },
    {
      "cell_type": "code",
      "source": [],
      "metadata": {
        "id": "JV3mmyeVC4s7"
      },
      "execution_count": null,
      "outputs": []
    },
    {
      "cell_type": "markdown",
      "source": [
        "# Section 4: Sum of Duration of all valid rides: "
      ],
      "metadata": {
        "id": "dVdbfhD8RvDG"
      }
    },
    {
      "cell_type": "code",
      "source": [
        "Total_duration_Spring = spring_final_df.groupBy().sum().collect()[0][0]\n",
        "\n",
        "print(\"The sum of duration of all valid rides of Spring season is:\" , Total_duration_Spring)"
      ],
      "metadata": {
        "colab": {
          "base_uri": "https://localhost:8080/"
        },
        "id": "QnUEBCImQSRC",
        "outputId": "4fbd8e4b-9bb0-4688-9b44-8f3bbd9d9625"
      },
      "execution_count": 100,
      "outputs": [
        {
          "output_type": "stream",
          "name": "stdout",
          "text": [
            "The sum of duration of all valid rides of Spring season is: 2924316720\n"
          ]
        }
      ]
    },
    {
      "cell_type": "code",
      "source": [],
      "metadata": {
        "id": "RkUf1a95QTxi"
      },
      "execution_count": null,
      "outputs": []
    },
    {
      "cell_type": "code",
      "source": [
        "Total_duration_Autumn = autumn_final_df.groupBy().sum().collect()[0][0]\n",
        "\n",
        "print(\"The sum of duration of all valid rides of Autumn season is:\" , Total_duration_Autumn)"
      ],
      "metadata": {
        "colab": {
          "base_uri": "https://localhost:8080/"
        },
        "id": "vQusN_PgQUXS",
        "outputId": "e05cf9cc-cfba-4658-e44b-bce81b094a99"
      },
      "execution_count": 101,
      "outputs": [
        {
          "output_type": "stream",
          "name": "stdout",
          "text": [
            "The sum of duration of all valid rides of Autumn season is: 2188434480\n"
          ]
        }
      ]
    },
    {
      "cell_type": "code",
      "source": [],
      "metadata": {
        "id": "6T1xnRonQVMJ"
      },
      "execution_count": null,
      "outputs": []
    },
    {
      "cell_type": "markdown",
      "source": [
        "# Conclusion:"
      ],
      "metadata": {
        "id": "P7boF1SEh5TH"
      }
    },
    {
      "cell_type": "code",
      "source": [
        "#  The First draft Research Hypothesis is: “In 2014, people ride for longer in Autumn than in Spring”"
      ],
      "metadata": {
        "id": "BFBc8xMiQVxT"
      },
      "execution_count": null,
      "outputs": []
    },
    {
      "cell_type": "code",
      "source": [
        "# Based on the analysis, for the same valid duration of rides (2mins to 2.2hours), compared to Autumn, Spring season had more amount of rides.  "
      ],
      "metadata": {
        "id": "6h9d7bl9QXHZ"
      },
      "execution_count": null,
      "outputs": []
    },
    {
      "cell_type": "code",
      "source": [
        "# The percentage difference is "
      ],
      "metadata": {
        "id": "9KJMOiaqQX96"
      },
      "execution_count": null,
      "outputs": []
    },
    {
      "cell_type": "code",
      "source": [
        "Grand_Total = Total_duration_Spring + Total_duration_Autumn\n",
        "Grand_Total"
      ],
      "metadata": {
        "colab": {
          "base_uri": "https://localhost:8080/"
        },
        "id": "1TqKr8KdQYgi",
        "outputId": "02c123d0-0339-4f84-d22a-99ba9ba32fd4"
      },
      "execution_count": 102,
      "outputs": [
        {
          "output_type": "execute_result",
          "data": {
            "text/plain": [
              "5112751200"
            ]
          },
          "metadata": {},
          "execution_count": 102
        }
      ]
    },
    {
      "cell_type": "code",
      "source": [
        "x = Total_duration_Spring - Total_duration_Autumn\n",
        "y = Total_duration_Spring + Total_duration_Autumn\n",
        "z = y/2\n"
      ],
      "metadata": {
        "id": "CokO49nUmdUU"
      },
      "execution_count": 112,
      "outputs": []
    },
    {
      "cell_type": "code",
      "source": [
        "x"
      ],
      "metadata": {
        "colab": {
          "base_uri": "https://localhost:8080/"
        },
        "id": "EXz1TuOOmcPH",
        "outputId": "7f698337-cfea-4509-9d4e-2e5ffd89e5c7"
      },
      "execution_count": 113,
      "outputs": [
        {
          "output_type": "execute_result",
          "data": {
            "text/plain": [
              "735882240"
            ]
          },
          "metadata": {},
          "execution_count": 113
        }
      ]
    },
    {
      "cell_type": "code",
      "source": [
        "y"
      ],
      "metadata": {
        "colab": {
          "base_uri": "https://localhost:8080/"
        },
        "id": "lbjod72QnI_F",
        "outputId": "c0237e4e-fb21-40cb-fad6-b040af54df45"
      },
      "execution_count": 114,
      "outputs": [
        {
          "output_type": "execute_result",
          "data": {
            "text/plain": [
              "5112751200"
            ]
          },
          "metadata": {},
          "execution_count": 114
        }
      ]
    },
    {
      "cell_type": "code",
      "source": [
        "z"
      ],
      "metadata": {
        "colab": {
          "base_uri": "https://localhost:8080/"
        },
        "id": "kDXWCiOunJuE",
        "outputId": "5e4e6086-0fd1-42c4-a42e-7a4aabe61be2"
      },
      "execution_count": 115,
      "outputs": [
        {
          "output_type": "execute_result",
          "data": {
            "text/plain": [
              "2556375600.0"
            ]
          },
          "metadata": {},
          "execution_count": 115
        }
      ]
    },
    {
      "cell_type": "code",
      "source": [
        "Diff = (x/z) * 100\n",
        "Diff"
      ],
      "metadata": {
        "colab": {
          "base_uri": "https://localhost:8080/"
        },
        "id": "ssXFTGjBQZ3x",
        "outputId": "04c35228-07ce-4b8c-b863-9017bd9f46d6"
      },
      "execution_count": 116,
      "outputs": [
        {
          "output_type": "execute_result",
          "data": {
            "text/plain": [
              "28.786154898364703"
            ]
          },
          "metadata": {},
          "execution_count": 116
        }
      ]
    },
    {
      "cell_type": "code",
      "source": [
        "# It has been found that there were 28.77% more rides happened during Spring compared to Autumn 2014 in London. "
      ],
      "metadata": {
        "id": "YLZYWN9wnhr6"
      },
      "execution_count": null,
      "outputs": []
    },
    {
      "cell_type": "code",
      "source": [
        "#Hence, The First draft Research Hypothesis: “In 2014, people ride for longer in Autumn than in Spring” DOES NOT HOLD TRUE. "
      ],
      "metadata": {
        "id": "3dC7gVAEnjMx"
      },
      "execution_count": null,
      "outputs": []
    }
  ]
}